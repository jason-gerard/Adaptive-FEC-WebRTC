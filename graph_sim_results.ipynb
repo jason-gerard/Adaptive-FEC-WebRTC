{
 "cells": [
  {
   "cell_type": "code",
   "execution_count": 30,
   "outputs": [],
   "source": [
    "import pandas as pd\n",
    "import numpy as np\n",
    "import matplotlib.pyplot as plt\n",
    "import pickle\n",
    "import os\n",
    "import pprint\n",
    "import math"
   ],
   "metadata": {
    "collapsed": false,
    "ExecuteTime": {
     "end_time": "2023-10-27T20:45:19.518394Z",
     "start_time": "2023-10-27T20:45:19.514594Z"
    }
   },
   "id": "7fc35f598a2ad917"
  },
  {
   "cell_type": "code",
   "execution_count": 31,
   "id": "initial_id",
   "metadata": {
    "collapsed": true,
    "ExecuteTime": {
     "end_time": "2023-10-27T20:45:19.980296Z",
     "start_time": "2023-10-27T20:45:19.975593Z"
    }
   },
   "outputs": [
    {
     "name": "stdout",
     "output_type": "stream",
     "text": [
      "22.47\n",
      "{'Standard': {'frameCount': 656, 'frameDisplayed': 171, 'errorCountBC': 485, 'errorCountAC': 485}, 'Corrected': {'frameCount': 667, 'frameDisplayed': 338, 'errorCountBC': 488, 'errorCountAC': 329}, 'CorrectedML': {'frameCount': 654, 'frameDisplayed': 448, 'errorCountBC': 501, 'errorCountAC': 206}}\n",
      "{'Corrected': {'Energy Consumption': 14.215104,\n",
      "               'Energy Efficiency': 23.77752565158862,\n",
      "               'Percent of Errors Corrected': 0.3258196721311475,\n",
      "               'Throughput': 15.042278593680464},\n",
      " 'CorrectedML': {'Energy Consumption': 14.905877599999974,\n",
      "                 'Energy Efficiency': 30.055258202308114,\n",
      "                 'Percent of Errors Corrected': 0.5888223552894212,\n",
      "                 'Throughput': 19.937694704049846},\n",
      " 'Standard': {'Energy Consumption': 13.120000000000001,\n",
      "              'Energy Efficiency': 13.033536585365853,\n",
      "              'Percent of Errors Corrected': 0.0,\n",
      "              'Throughput': 7.610146862483312}}\n"
     ]
    }
   ],
   "source": [
    "data = {}\n",
    "with open(\"results.csv\", \"r\") as f:\n",
    "    lines = [line.rstrip() for line in f]\n",
    "    headers = lines[0].split(\",\")\n",
    "    \n",
    "    duration = int(lines[5].split(\",\")[1]) / 1000  # duration in seconds\n",
    "    n_list = [int(x) for x in lines[6].split(\",\")[1][:-1].split(\":\")]\n",
    "    \n",
    "    for line in lines[1:4]:\n",
    "        parts = line.split(\",\")\n",
    "        data[parts[0]] = {\n",
    "            headers[1]: int(parts[1]),\n",
    "            headers[2]: int(parts[2]),\n",
    "            headers[3]: int(parts[3]),\n",
    "            headers[4]: int(parts[4]),\n",
    "        }\n",
    "\n",
    "\n",
    "print(duration)\n",
    "print(data)\n",
    "\n",
    "metrics = {name: {} for name in data.keys()}\n",
    "\n",
    "for key in metrics.keys():\n",
    "    metrics[key][\"Throughput\"] = data[key][\"frameDisplayed\"] / duration\n",
    "    metrics[key][\"Percent of Errors Corrected\"] = 1 - (data[key][\"errorCountAC\"] / data[key][\"errorCountBC\"])\n",
    "    \n",
    "    baseline_receiver = 0.01\n",
    "    baseline_sender = 0.01\n",
    "    p_cycle_node = 0.0000082  # J\n",
    "    p_cycle_sat = 0.0000082  # J\n",
    "\n",
    "    if key == \"Standard\":\n",
    "        ec = (baseline_sender * data[key][\"frameCount\"]) + (baseline_receiver * data[key][\"frameCount\"])\n",
    "    elif key == \"Corrected\":\n",
    "        n = 22\n",
    "        k = 18\n",
    "        M = math.ceil(18 / k)\n",
    "\n",
    "        # These are the iterations\n",
    "        iter_encoding = M * k * (n - k)\n",
    "        iter_decoding = M * n * (n - k)\n",
    "\n",
    "        e_encoding = iter_encoding * p_cycle_node\n",
    "        e_decoding = iter_decoding * p_cycle_sat\n",
    "        ec = (baseline_sender * data[key][\"frameCount\"]) + (baseline_receiver * data[key][\"frameCount\"]) + (e_encoding * data[key][\"frameCount\"]) + (e_decoding * data[key][\"frameCount\"])\n",
    "    elif key == \"CorrectedML\":\n",
    "        ec = 0\n",
    "        for n in n_list:\n",
    "            k = 18\n",
    "            M = math.ceil(18 / k)\n",
    "\n",
    "            # These are the iterations\n",
    "            iter_encoding = M * k * (n - k)\n",
    "            iter_decoding = M * n * (n - k)\n",
    "\n",
    "            e_encoding = iter_encoding * p_cycle_node\n",
    "            e_decoding = iter_decoding * p_cycle_sat\n",
    "            ec += baseline_sender + baseline_receiver + e_encoding + e_decoding\n",
    "            \n",
    "    metrics[key][\"Energy Consumption\"] = ec\n",
    "    metrics[key][\"Energy Efficiency\"] = data[key][\"frameDisplayed\"] / ec\n",
    "\n",
    "\n",
    "pprint.pprint(metrics)"
   ]
  },
  {
   "cell_type": "code",
   "execution_count": 33,
   "outputs": [
    {
     "data": {
      "text/plain": "<Figure size 640x480 with 1 Axes>",
      "image/png": "[encoded data removed]"
     },
     "metadata": {},
     "output_type": "display_data"
    }
   ],
   "source": [
    "output_dir = \"output_graphs\"\n",
    "\n",
    "fig = plt.figure()\n",
    "ax = fig.add_subplot(111)\n",
    "\n",
    "for name in metrics.keys():\n",
    "    x = metrics[name][\"Energy Efficiency\"]\n",
    "    y = metrics[name][\"Throughput\"]\n",
    "    plt.plot([x], [y], 'o', label=name)\n",
    "\n",
    "y_label = \"Throughput [Frames / Second]\"\n",
    "x_label = \"Energy Efficiency [Frames / Joule]\"\n",
    "plt.ylabel(y_label)\n",
    "plt.xlabel(x_label)\n",
    "plt.legend(loc=\"lower right\", numpoints=1)\n",
    "plt.grid(linestyle='-', color='0.95')\n",
    "\n",
    "plt.ylim(0, 30)\n",
    "plt.xlim(0, 40)\n",
    "\n",
    "plt.savefig(os.path.join(output_dir, f\"{(x_label + y_label).replace(' ', '_').replace('/', '_')}.png\"))\n",
    "plt.show()\n",
    "\n",
    "# def plot_runs(metric_names, label, ylims, is_log=False, show_metric_name=False):\n",
    "#     fig = plt.figure()\n",
    "#     ax = fig.add_subplot(111)\n",
    "# \n",
    "#     for metric in metric_names:\n",
    "#         for channel_code in results:\n",
    "#             x = list(results[channel_code][metric].keys())[1:]\n",
    "#             ys = [results[channel_code][metric][BER] for BER in x]\n",
    "#             y = [np.average(y) for y in ys]\n",
    "#             yerr = [np.std(y) for y in ys]\n",
    "# \n",
    "#             key_label = channel_code if not show_metric_name else f\"{metric} - {channel_code}\"\n",
    "#             plt.errorbar(x, y, yerr=yerr, label=key_label, capsize=4, clip_on=False)\n",
    "# \n",
    "#     plt.ylabel(label)\n",
    "#     plt.xlabel(\"BER\")\n",
    "#     plt.legend(loc=\"lower left\")\n",
    "#     plt.grid(linestyle='-', color='0.95')\n",
    "# \n",
    "#     if is_log:\n",
    "#         plt.yscale(\"log\")\n",
    "#     plt.xscale(\"log\")\n",
    "#     \n",
    "#     plt.ylim(ylims[0], ylims[1])\n",
    "#     plt.xlim(min(x), max(x))\n",
    "# \n",
    "#     plt.savefig(os.path.join(output_dir, f\"{label.replace(' ', '_').replace('/', '_')}.png\"))\n",
    "#     plt.show()\n",
    "# \n",
    "# \n",
    "# metric = \"Energy Efficiency Node\"\n",
    "# plot_runs([metric], \"Energy Efficiency Node [bytes / joule]\", [0, 250])\n",
    "# \n",
    "# metric = \"Energy Consumption Node\"\n",
    "# plot_runs([metric], \"Energy Consumption Node [joule]\", [0, 400])\n",
    "# \n",
    "# metric = \"Energy Efficiency Satellite\"\n",
    "# plot_runs([metric], \"Energy Efficiency Satellite [bytes / joule]\", [0, 3500])\n",
    "# \n",
    "# metric = \"Energy Consumption Satellite\"\n",
    "# plot_runs([metric], \"Energy Consumption Satellite [joule]\", [0, 400])\n",
    "# \n",
    "# metric = \"Throughput\"\n",
    "# plot_runs([metric], \"Throughput kilobytes / hour\", [0, 350])\n",
    "# \n",
    "# plot_runs([\"Overhead\", \"Data\"], \"Overhead and data [bytes]\", [0, 70000], show_metric_name=True)"
   ],
   "metadata": {
    "collapsed": false,
    "ExecuteTime": {
     "end_time": "2023-10-27T20:47:04.781462Z",
     "start_time": "2023-10-27T20:47:04.558043Z"
    }
   },
   "id": "37e09ba0e45abcf0"
  },
  {
   "cell_type": "code",
   "execution_count": 13,
   "outputs": [],
   "source": [],
   "metadata": {
    "collapsed": false,
    "ExecuteTime": {
     "end_time": "2023-10-11T19:03:42.001808Z",
     "start_time": "2023-10-11T19:03:41.997029Z"
    }
   },
   "id": "5b9f2ee1f5c5ebb3"
  }
 ],
 "metadata": {
  "kernelspec": {
   "display_name": "Python 3",
   "language": "python",
   "name": "python3"
  },
  "language_info": {
   "codemirror_mode": {
    "name": "ipython",
    "version": 2
   },
   "file_extension": ".py",
   "mimetype": "text/x-python",
   "name": "python",
   "nbconvert_exporter": "python",
   "pygments_lexer": "ipython2",
   "version": "2.7.6"
  }
 },
 "nbformat": 4,
 "nbformat_minor": 5
}
